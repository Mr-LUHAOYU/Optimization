{
 "cells": [
  {
   "cell_type": "code",
   "outputs": [],
   "source": [
    "import numpy as np\n",
    "import sympy as sp\n",
    "from IPython.core.interactiveshell import InteractiveShell\n",
    "from IPython.display import display\n",
    "InteractiveShell.ast_node_interactivity = \"all\"\n"
   ],
   "metadata": {
    "collapsed": false,
    "ExecuteTime": {
     "end_time": "2024-05-31T09:54:54.102990200Z",
     "start_time": "2024-05-31T09:54:53.648431400Z"
    }
   },
   "id": "b04d4b5d76bcc942",
   "execution_count": 1
  },
  {
   "cell_type": "code",
   "outputs": [],
   "source": [
    "def func2():\n",
    "    x1, x2, x3 = sp.symbols('x1 x2 x3')\n",
    "    x = sp.Matrix([x1, x2, x3])\n",
    "    r1 = x1 ** 2 + x2 ** 2 + x3 ** 2 - 1\n",
    "    r2 = x1 ** 2 + x2 ** 2 + (x3 - 2) ** 2 - 1\n",
    "    r3 = x1 + x2 + x3 - 1\n",
    "    r4 = x1 + x2 - x3 + 1\n",
    "    r5 = x1 ** 3 + 3 * x2 ** 2 + (5 * x3 - x1 + 1) ** 2 - 36\n",
    "    r = sp.Matrix([r1, r2, r3, r4, r5])\n",
    "    \n",
    "    A = r.jacobian(x)\n",
    "    A_T = A.T\n",
    "    \n",
    "    gradient_f = A_T * r\n",
    "    \n",
    "    M = A_T * A\n",
    "    \n",
    "    H_r1 = sp.hessian(r1, x)\n",
    "    H_r2 = sp.hessian(r2, x)\n",
    "    H_r3 = sp.hessian(r3, x)\n",
    "    H_r4 = sp.hessian(r4, x)\n",
    "    H_r5 = sp.hessian(r5, x)\n",
    "    \n",
    "    H_r = [H_r1, H_r2, H_r3, H_r4, H_r5]\n",
    "    \n",
    "    Hessian_f = M\n",
    "    for i in range(5):\n",
    "        Hessian_f += r[i] * H_r[i]\n",
    "        \n",
    "    gradient_f_simplified = sp.simplify(gradient_f)\n",
    "    M_simplified = sp.simplify(M)\n",
    "    Hessian_f_simplified = sp.simplify(Hessian_f)\n",
    "    \n",
    "    return A, gradient_f_simplified, M_simplified, Hessian_f_simplified\n"
   ],
   "metadata": {
    "collapsed": false,
    "ExecuteTime": {
     "end_time": "2024-05-31T09:54:54.109066500Z",
     "start_time": "2024-05-31T09:54:54.102990200Z"
    }
   },
   "id": "906b1d2adf28692b",
   "execution_count": 2
  },
  {
   "cell_type": "code",
   "outputs": [
    {
     "data": {
      "text/plain": "Matrix([\n[                      2*x1, 2*x2,                2*x3],\n[                      2*x1, 2*x2,            2*x3 - 4],\n[                         1,    1,                   1],\n[                         1,    1,                  -1],\n[3*x1**2 + 2*x1 - 10*x3 - 2, 6*x2, -10*x1 + 50*x3 + 10]])",
      "text/latex": "$\\displaystyle \\left[\\begin{matrix}2 x_{1} & 2 x_{2} & 2 x_{3}\\\\2 x_{1} & 2 x_{2} & 2 x_{3} - 4\\\\1 & 1 & 1\\\\1 & 1 & -1\\\\3 x_{1}^{2} + 2 x_{1} - 10 x_{3} - 2 & 6 x_{2} & - 10 x_{1} + 50 x_{3} + 10\\end{matrix}\\right]$"
     },
     "metadata": {},
     "output_type": "display_data"
    },
    {
     "data": {
      "text/plain": "Matrix([\n[2*x1*(x1**2 + x2**2 + x3**2 - 1) + 2*x1*(x1**2 + x2**2 + (x3 - 2)**2 - 1) + 2*x1 + 2*x2 + (3*x1**2 + 2*x1 - 10*x3 - 2)*(x1**3 + 3*x2**2 + (-x1 + 5*x3 + 1)**2 - 36)],\n[                                                             6*x1**3*x2 + 10*x1**2*x2 - 60*x1*x2*x3 - 12*x1*x2 + 2*x1 + 22*x2**3 + 154*x2*x3**2 + 52*x2*x3 - 204*x2],\n[      2*x3*(x1**2 + x2**2 + x3**2 - 1) + 2*x3 + 2*(x3 - 2)*(x1**2 + x2**2 + (x3 - 2)**2 - 1) + 10*(-x1 + 5*x3 + 1)*(x1**3 + 3*x2**2 + (-x1 + 5*x3 + 1)**2 - 36) - 2]])",
      "text/latex": "$\\displaystyle \\left[\\begin{matrix}2 x_{1} \\left(x_{1}^{2} + x_{2}^{2} + x_{3}^{2} - 1\\right) + 2 x_{1} \\left(x_{1}^{2} + x_{2}^{2} + \\left(x_{3} - 2\\right)^{2} - 1\\right) + 2 x_{1} + 2 x_{2} + \\left(3 x_{1}^{2} + 2 x_{1} - 10 x_{3} - 2\\right) \\left(x_{1}^{3} + 3 x_{2}^{2} + \\left(- x_{1} + 5 x_{3} + 1\\right)^{2} - 36\\right)\\\\6 x_{1}^{3} x_{2} + 10 x_{1}^{2} x_{2} - 60 x_{1} x_{2} x_{3} - 12 x_{1} x_{2} + 2 x_{1} + 22 x_{2}^{3} + 154 x_{2} x_{3}^{2} + 52 x_{2} x_{3} - 204 x_{2}\\\\2 x_{3} \\left(x_{1}^{2} + x_{2}^{2} + x_{3}^{2} - 1\\right) + 2 x_{3} + 2 \\left(x_{3} - 2\\right) \\left(x_{1}^{2} + x_{2}^{2} + \\left(x_{3} - 2\\right)^{2} - 1\\right) + 10 \\left(- x_{1} + 5 x_{3} + 1\\right) \\left(x_{1}^{3} + 3 x_{2}^{2} + \\left(- x_{1} + 5 x_{3} + 1\\right)^{2} - 36\\right) - 2\\end{matrix}\\right]$"
     },
     "metadata": {},
     "output_type": "display_data"
    },
    {
     "data": {
      "text/plain": "Matrix([\n[                             8*x1**2 + (3*x1**2 + 2*x1 - 10*x3 - 2)**2 + 2, 18*x1**2*x2 + 20*x1*x2 - 60*x2*x3 - 12*x2 + 2, 4*x1*x3 + 4*x1*(x3 - 2) + 10*(-x1 + 5*x3 + 1)*(3*x1**2 + 2*x1 - 10*x3 - 2)],\n[                             18*x1**2*x2 + 20*x1*x2 - 60*x2*x3 - 12*x2 + 2,                                  44*x2**2 + 2,                                                 4*x2*(-15*x1 + 77*x3 + 13)],\n[4*x1*x3 + 4*x1*(x3 - 2) + 10*(-x1 + 5*x3 + 1)*(3*x1**2 + 2*x1 - 10*x3 - 2),                    4*x2*(-15*x1 + 77*x3 + 13),                100*x1**2 - 1000*x1*x3 - 200*x1 + 2508*x3**2 + 984*x3 + 118]])",
      "text/latex": "$\\displaystyle \\left[\\begin{matrix}8 x_{1}^{2} + \\left(3 x_{1}^{2} + 2 x_{1} - 10 x_{3} - 2\\right)^{2} + 2 & 18 x_{1}^{2} x_{2} + 20 x_{1} x_{2} - 60 x_{2} x_{3} - 12 x_{2} + 2 & 4 x_{1} x_{3} + 4 x_{1} \\left(x_{3} - 2\\right) + 10 \\left(- x_{1} + 5 x_{3} + 1\\right) \\left(3 x_{1}^{2} + 2 x_{1} - 10 x_{3} - 2\\right)\\\\18 x_{1}^{2} x_{2} + 20 x_{1} x_{2} - 60 x_{2} x_{3} - 12 x_{2} + 2 & 44 x_{2}^{2} + 2 & 4 x_{2} \\left(- 15 x_{1} + 77 x_{3} + 13\\right)\\\\4 x_{1} x_{3} + 4 x_{1} \\left(x_{3} - 2\\right) + 10 \\left(- x_{1} + 5 x_{3} + 1\\right) \\left(3 x_{1}^{2} + 2 x_{1} - 10 x_{3} - 2\\right) & 4 x_{2} \\left(- 15 x_{1} + 77 x_{3} + 13\\right) & 100 x_{1}^{2} - 1000 x_{1} x_{3} - 200 x_{1} + 2508 x_{3}^{2} + 984 x_{3} + 118\\end{matrix}\\right]$"
     },
     "metadata": {},
     "output_type": "display_data"
    },
    {
     "data": {
      "text/plain": "Matrix([\n[15*x1**4 + 20*x1**3 - 120*x1**2*x3 - 6*x1**2 + 18*x1*x2**2 + 150*x1*x3**2 - 222*x1 + 10*x2**2 + 154*x3**2 + 52*x3 - 60,                              18*x1**2*x2 + 20*x1*x2 - 60*x2*x3 - 12*x2 + 2,   -40*x1**3 + 150*x1**2*x3 + 308*x1*x3 + 52*x1 - 30*x2**2 - 750*x3**2 - 300*x3 + 330],\n[                                                                         18*x1**2*x2 + 20*x1*x2 - 60*x2*x3 - 12*x2 + 2, 6*x1**3 + 10*x1**2 - 60*x1*x3 - 12*x1 + 66*x2**2 + 154*x3**2 + 52*x3 - 204,                                                           4*x2*(-15*x1 + 77*x3 + 13)],\n[                                    -40*x1**3 + 150*x1**2*x3 + 308*x1*x3 + 52*x1 - 30*x2**2 - 750*x3**2 - 300*x3 + 330,                                                 4*x2*(-15*x1 + 77*x3 + 13), 50*x1**3 + 154*x1**2 - 1500*x1*x3 - 300*x1 + 154*x2**2 + 3762*x3**2 + 1476*x3 - 1628]])",
      "text/latex": "$\\displaystyle \\left[\\begin{matrix}15 x_{1}^{4} + 20 x_{1}^{3} - 120 x_{1}^{2} x_{3} - 6 x_{1}^{2} + 18 x_{1} x_{2}^{2} + 150 x_{1} x_{3}^{2} - 222 x_{1} + 10 x_{2}^{2} + 154 x_{3}^{2} + 52 x_{3} - 60 & 18 x_{1}^{2} x_{2} + 20 x_{1} x_{2} - 60 x_{2} x_{3} - 12 x_{2} + 2 & - 40 x_{1}^{3} + 150 x_{1}^{2} x_{3} + 308 x_{1} x_{3} + 52 x_{1} - 30 x_{2}^{2} - 750 x_{3}^{2} - 300 x_{3} + 330\\\\18 x_{1}^{2} x_{2} + 20 x_{1} x_{2} - 60 x_{2} x_{3} - 12 x_{2} + 2 & 6 x_{1}^{3} + 10 x_{1}^{2} - 60 x_{1} x_{3} - 12 x_{1} + 66 x_{2}^{2} + 154 x_{3}^{2} + 52 x_{3} - 204 & 4 x_{2} \\left(- 15 x_{1} + 77 x_{3} + 13\\right)\\\\- 40 x_{1}^{3} + 150 x_{1}^{2} x_{3} + 308 x_{1} x_{3} + 52 x_{1} - 30 x_{2}^{2} - 750 x_{3}^{2} - 300 x_{3} + 330 & 4 x_{2} \\left(- 15 x_{1} + 77 x_{3} + 13\\right) & 50 x_{1}^{3} + 154 x_{1}^{2} - 1500 x_{1} x_{3} - 300 x_{1} + 154 x_{2}^{2} + 3762 x_{3}^{2} + 1476 x_{3} - 1628\\end{matrix}\\right]$"
     },
     "metadata": {},
     "output_type": "display_data"
    },
    {
     "data": {
      "text/plain": "Matrix([\n[ 146, 2, -720],\n[   2, 2,    0],\n[-720, 0, 3610]])",
      "text/latex": "$\\displaystyle \\left[\\begin{matrix}146 & 2 & -720\\\\2 & 2 & 0\\\\-720 & 0 & 3610\\end{matrix}\\right]$"
     },
     "metadata": {},
     "output_type": "display_data"
    },
    {
     "data": {
      "text/plain": "Matrix([\n[ 146, 2, -720],\n[   2, 2,    0],\n[-720, 0, 3610]])",
      "text/latex": "$\\displaystyle \\left[\\begin{matrix}146 & 2 & -720\\\\2 & 2 & 0\\\\-720 & 0 & 3610\\end{matrix}\\right]$"
     },
     "metadata": {},
     "output_type": "display_data"
    },
    {
     "name": "stdout",
     "output_type": "stream",
     "text": [
      "True\n"
     ]
    }
   ],
   "source": [
    "def main2():\n",
    "    # Jacobian, ∇f(x), M(x), ∇²f(x)\n",
    "    A, gradient_f_simplified, M_simplified, Hessian_f_simplified = func2()\n",
    "    display(A)\n",
    "    display(gradient_f_simplified)\n",
    "    display(M_simplified)\n",
    "    display(Hessian_f_simplified)\n",
    "    x1, x2, x3 = sp.symbols('x1 x2 x3')\n",
    "    a = M_simplified.subs({x1: 0, x2: 0, x3: 1})\n",
    "    b = Hessian_f_simplified.subs({x1: 0, x2: 0, x3: 1})\n",
    "    display(a)\n",
    "    display(b)\n",
    "    print(a == b)\n",
    "main2()"
   ],
   "metadata": {
    "collapsed": false,
    "ExecuteTime": {
     "end_time": "2024-05-31T09:54:54.883106300Z",
     "start_time": "2024-05-31T09:54:54.110085100Z"
    }
   },
   "id": "e3c4e62b44b7f37",
   "execution_count": 3
  },
  {
   "cell_type": "code",
   "outputs": [],
   "source": [
    "def func3(values: dict):\n",
    "    x1, x2 = sp.symbols('x1 x2')\n",
    "    x = sp.Matrix([x1, x2])\n",
    "    t = np.array(list(range(-1, 3)))\n",
    "    y = np.array([2.7, 1, 0.4, 0.1])\n",
    "    r = sp.Matrix([\n",
    "       x1 * sp.exp(-x2 * t[i]) - y[i]  for i in range(4)\n",
    "    ])\n",
    "    A = r.jacobian(x)\n",
    "    A_T = A.T\n",
    "    gradient_f = A_T * r\n",
    "    M = A_T * A\n",
    "    x = x.subs(values)\n",
    "    gradient_f = np.array(gradient_f.subs(values), dtype=float)\n",
    "    M = np.array(M.subs(values), dtype=float)\n",
    "    delta = -np.linalg.solve(M, gradient_f)\n",
    "    x_new = x + delta\n",
    "    return x_new"
   ],
   "metadata": {
    "collapsed": false,
    "ExecuteTime": {
     "end_time": "2024-05-31T09:54:54.888885200Z",
     "start_time": "2024-05-31T09:54:54.885989Z"
    }
   },
   "id": "b70e3925c1526ea4",
   "execution_count": 4
  },
  {
   "cell_type": "code",
   "outputs": [
    {
     "data": {
      "text/plain": "Matrix([\n[ 1.00396215086495],\n[0.989399012852081]])",
      "text/latex": "$\\displaystyle \\left[\\begin{matrix}1.00396215086495\\\\0.989399012852081\\end{matrix}\\right]$"
     },
     "metadata": {},
     "output_type": "display_data"
    }
   ],
   "source": [
    "def main3():\n",
    "    x1, x2 = sp.symbols('x1 x2')\n",
    "    values = {x1: 1, x2: 1}\n",
    "    display(sp.Matrix([func3(values)]))\n",
    "main3()"
   ],
   "metadata": {
    "collapsed": false,
    "ExecuteTime": {
     "end_time": "2024-05-31T09:54:54.923056800Z",
     "start_time": "2024-05-31T09:54:54.889390200Z"
    }
   },
   "id": "267b1c0ace42c109",
   "execution_count": 5
  }
 ],
 "metadata": {
  "kernelspec": {
   "display_name": "Python 3",
   "language": "python",
   "name": "python3"
  },
  "language_info": {
   "codemirror_mode": {
    "name": "ipython",
    "version": 2
   },
   "file_extension": ".py",
   "mimetype": "text/x-python",
   "name": "python",
   "nbconvert_exporter": "python",
   "pygments_lexer": "ipython2",
   "version": "2.7.6"
  }
 },
 "nbformat": 4,
 "nbformat_minor": 5
}
