{
 "cells": [
  {
   "cell_type": "code",
   "execution_count": 4,
   "id": "initial_id",
   "metadata": {
    "collapsed": true,
    "ExecuteTime": {
     "end_time": "2024-06-04T07:06:27.522093100Z",
     "start_time": "2024-06-04T07:06:27.243501700Z"
    }
   },
   "outputs": [],
   "source": [
    "import numpy as np\n",
    "\n",
    "DEBUG = False"
   ]
  },
  {
   "cell_type": "markdown",
   "source": [
    "## 第四题"
   ],
   "metadata": {
    "collapsed": false
   },
   "id": "23181f0c1443010d"
  },
  {
   "cell_type": "code",
   "outputs": [],
   "source": [
    "def func4(t):\n",
    "    return np.power(np.e, t) + np.power(np.e, -t)"
   ],
   "metadata": {
    "collapsed": false,
    "ExecuteTime": {
     "end_time": "2024-05-30T13:10:09.127162400Z",
     "start_time": "2024-05-30T13:10:09.120786700Z"
    }
   },
   "id": "f13fe9c73576f91b",
   "execution_count": 2
  },
  {
   "cell_type": "code",
   "outputs": [],
   "source": [
    "def method_618(a, b, func):\n",
    "    \"\"\"618法\"\"\"\n",
    "    _lambda = a + 0.382 * (b - a)\n",
    "    _mu = a + 0.618 * (b - a)\n",
    "    _delta = b - a\n",
    "    k = 1\n",
    "    ans = None\n",
    "    while _delta > 1e-12:\n",
    "        x1 = func(_lambda)\n",
    "        x2 = func(_mu)\n",
    "        if x1 > x2:\n",
    "            if b - _lambda < 1e-6:\n",
    "                ans = _mu\n",
    "                break\n",
    "            a = _lambda\n",
    "            _lambda = _mu\n",
    "            _delta = b - a\n",
    "            _mu = a + 0.618 * _delta\n",
    "        else:\n",
    "            if _mu - a < 1e-6:\n",
    "                ans = _lambda\n",
    "                break\n",
    "            b = _mu\n",
    "            _mu = _lambda\n",
    "            _delta = b - a\n",
    "            _lambda = a + 0.328 * _delta\n",
    "        k += 1\n",
    "    \n",
    "    return ans, func(ans), k"
   ],
   "metadata": {
    "collapsed": false,
    "ExecuteTime": {
     "end_time": "2024-05-30T13:10:09.133357800Z",
     "start_time": "2024-05-30T13:10:09.124383800Z"
    }
   },
   "id": "e18bd84272d526a9",
   "execution_count": 3
  },
  {
   "cell_type": "code",
   "outputs": [],
   "source": [
    "def method_fibonacci(a, b, func):\n",
    "    \"\"\"Fibonacci法\"\"\"\n",
    "    DELTA = 1e-6\n",
    "    fib = [0, 1]\n",
    "    while fib[-1] < (b - a) / DELTA:\n",
    "        fib.append(fib[-1] + fib[-2])    \n",
    "    n = len(fib) - 1\n",
    "    \n",
    "    ans = None    \n",
    "    for k in range(1, n):\n",
    "        _lambda = a + (b - a) * fib[n - k - 1] / fib[n - k + 1]\n",
    "        _mu = a + (b - a) * fib[n - k] / fib[n - k + 1]\n",
    "        if func(_lambda) > func(_mu):\n",
    "            if b - _lambda < DELTA:\n",
    "                ans = _mu\n",
    "                break\n",
    "            a = _lambda\n",
    "            _lambda = _mu\n",
    "            _mu = a + (b - a) * fib[n - k] / fib[n - k + 1]\n",
    "        else:\n",
    "            if _mu - a < DELTA:\n",
    "                ans = _lambda\n",
    "                break\n",
    "            b = _mu\n",
    "            _mu = _lambda\n",
    "            _lambda = a + (b - a) * fib[n - k - 1] / fib[n - k + 1]\n",
    "\n",
    "    return ans, func(ans), n"
   ],
   "metadata": {
    "collapsed": false,
    "ExecuteTime": {
     "end_time": "2024-05-30T13:10:09.139378200Z",
     "start_time": "2024-05-30T13:10:09.131995100Z"
    }
   },
   "id": "9dd476d1f2d7d4c4",
   "execution_count": 4
  },
  {
   "cell_type": "code",
   "outputs": [
    {
     "name": "stdout",
     "output_type": "stream",
     "text": [
      "618法:\n",
      "x_star = 0.0002563395536478077\n",
      "min_val = 2.0000000657099672\n",
      "k = 26\n",
      "\n",
      "Fibonacci法:\n",
      "x_star = -4.5907169282944493e-07\n",
      "min_val = 2.0000000000002105\n",
      "n = 32\n"
     ]
    }
   ],
   "source": [
    "def main4():\n",
    "    x_star, min_val, k = method_618(-1, 1, func4)\n",
    "    print(f\"618法:\\nx_star = {x_star}\\nmin_val = {min_val}\\nk = {k}\\n\")\n",
    "    x_star, min_val, n = method_fibonacci(-1, 1, func4)\n",
    "    print(f\"Fibonacci法:\\nx_star = {x_star}\\nmin_val = {min_val}\\nn = {n}\\n\")\n",
    "if not DEBUG:\n",
    "    main4()"
   ],
   "metadata": {
    "collapsed": false,
    "ExecuteTime": {
     "end_time": "2024-05-30T13:10:09.172410100Z",
     "start_time": "2024-05-30T13:10:09.136875Z"
    }
   },
   "id": "e59065dade250a89",
   "execution_count": 5
  },
  {
   "cell_type": "markdown",
   "source": [
    "## 第五题"
   ],
   "metadata": {
    "collapsed": false
   },
   "id": "7672ef7ceaf5d5fd"
  },
  {
   "cell_type": "code",
   "outputs": [],
   "source": [
    "def binary_search(a, b, delta=1e-6):\n",
    "    \"\"\"二分法\"\"\"\n",
    "    def f(x):\n",
    "        return x * (x + 2)\n",
    "    def diff_f(x):\n",
    "        return 2 * x + 2\n",
    "    while b - a > delta:\n",
    "        c = (a + b) / 2\n",
    "        d = diff_f(c)\n",
    "        if d == 0:\n",
    "            return a, b, c\n",
    "        elif d > 0:\n",
    "            b = c\n",
    "        else:\n",
    "            a = c\n",
    "    return a, b, (a + b) / 2, f((a + b) / 2)"
   ],
   "metadata": {
    "collapsed": false,
    "ExecuteTime": {
     "end_time": "2024-05-30T13:10:09.172410100Z",
     "start_time": "2024-05-30T13:10:09.143200600Z"
    }
   },
   "id": "d3d5eb509a61c113",
   "execution_count": 6
  },
  {
   "cell_type": "code",
   "outputs": [
    {
     "name": "stdout",
     "output_type": "stream",
     "text": [
      "二分法:\n",
      "区间: [-1.03125, -0.890625]\n",
      "x_star = -0.9609375\n",
      "min_val = -0.99847412109375\n"
     ]
    }
   ],
   "source": [
    "def main5():\n",
    "    x, y, z, min_val = binary_search(-3, 6, delta=0.2)\n",
    "    print(f\"二分法:\\n区间: [{x}, {y}]\\nx_star = {z}\\nmin_val = {min_val}\\n\")   \n",
    "if not DEBUG:\n",
    "    main5()"
   ],
   "metadata": {
    "collapsed": false,
    "ExecuteTime": {
     "end_time": "2024-05-30T13:10:09.173439100Z",
     "start_time": "2024-05-30T13:10:09.147855700Z"
    }
   },
   "id": "94c8017324ef8a27",
   "execution_count": 7
  },
  {
   "cell_type": "markdown",
   "source": [
    "## 第六题"
   ],
   "metadata": {
    "collapsed": false
   },
   "id": "2a40624132daca26"
  },
  {
   "cell_type": "code",
   "outputs": [],
   "source": [
    "def func6(t):\n",
    "    return 1 - t * np.power(np.e, -t * t)"
   ],
   "metadata": {
    "collapsed": false,
    "ExecuteTime": {
     "end_time": "2024-05-30T13:10:09.173439100Z",
     "start_time": "2024-05-30T13:10:09.151698100Z"
    }
   },
   "id": "232c7b8834d3f97b",
   "execution_count": 8
  },
  {
   "cell_type": "code",
   "outputs": [],
   "source": [
    "def method_32(a, b, func):\n",
    "    \"\"\"三点二次插值法\"\"\"\n",
    "    alpha1, alpha2, alpha3 = a, (a + b) / 2, b\n",
    "    while True:\n",
    "        phi1, phi2, phi3 = func(alpha1), func(alpha2), func(alpha3)\n",
    "        alpha_head = (\n",
    "            (alpha2 * alpha2 - alpha3 * alpha3) * phi1 +\n",
    "            (alpha3 * alpha3 - alpha1 * alpha1) * phi2 +\n",
    "            (alpha1 * alpha1 - alpha2 * alpha2) * phi3\n",
    "        ) / (\n",
    "            (alpha2 - alpha3) * phi1 +\n",
    "            (alpha3 - alpha1) * phi2 +\n",
    "            (alpha1 - alpha2) * phi3\n",
    "        ) / 2\n",
    "        \n",
    "        phi_head = func(alpha_head)\n",
    "        \n",
    "        if np.abs(phi2) < 1e-5 and np.abs(phi2 - phi_head) <= 1e-3:\n",
    "            return alpha_head, phi_head\n",
    "        if np.abs(phi2) > 1e-5 and np.abs(phi2 - phi_head) <= 1e-3 * np.abs(phi2):\n",
    "            return alpha_head, phi_head\n",
    "        \n",
    "        if alpha_head > alpha2:\n",
    "            if phi_head <= phi2:\n",
    "                alpha1 = alpha2\n",
    "                alpha2 = alpha_head\n",
    "            else:\n",
    "                alpha3 = alpha_head\n",
    "        else:\n",
    "            if phi_head <= phi2:\n",
    "                alpha3 = alpha2\n",
    "                alpha2 = alpha_head\n",
    "            else:\n",
    "                alpha1 = alpha_head"
   ],
   "metadata": {
    "collapsed": false,
    "ExecuteTime": {
     "end_time": "2024-05-30T13:10:09.174686600Z",
     "start_time": "2024-05-30T13:10:09.153961700Z"
    }
   },
   "id": "4ebefa91aa368ba5",
   "execution_count": 9
  },
  {
   "cell_type": "code",
   "outputs": [
    {
     "name": "stdout",
     "output_type": "stream",
     "text": [
      "三点二次插值法:\n",
      "x_star = 0.722782889191233\n",
      "min_val = 0.5713272614627292\n"
     ]
    }
   ],
   "source": [
    "def main6():\n",
    "    x_star, min_val = method_32(0, 1, func6)\n",
    "    print(f\"三点二次插值法:\\nx_star = {x_star}\\nmin_val = {min_val}\\n\")\n",
    "if not DEBUG:\n",
    "    main6()"
   ],
   "metadata": {
    "collapsed": false,
    "ExecuteTime": {
     "end_time": "2024-05-30T13:10:09.175190200Z",
     "start_time": "2024-05-30T13:10:09.160009800Z"
    }
   },
   "id": "aae8237800374d2a",
   "execution_count": 10
  },
  {
   "cell_type": "markdown",
   "source": [
    "## 第七题"
   ],
   "metadata": {
    "collapsed": false
   },
   "id": "17ff9421dfa38073"
  },
  {
   "cell_type": "code",
   "outputs": [],
   "source": [
    "def Goldstein(t0, rou):\n",
    "    def f(x):\n",
    "        a = np.array([-2, 21, -60, 50])\n",
    "        b = np.array([np.power(x, i) for i in range(3, -1, -1)])\n",
    "        return np.dot(a, b)\n",
    "    def diff_f(x):\n",
    "        a = np.array([-6, 42, -60])\n",
    "        b = np.array([np.power(x, i) for i in range(2, -1, -1)])\n",
    "        return np.dot(a, b)\n",
    "    def get_alpha(MIN=0, MAX=1):\n",
    "        a = MIN\n",
    "        b = MAX\n",
    "        alpha = (a + b) / 2\n",
    "\n",
    "        while True:\n",
    "            phi_alpha = f(x + alpha * d)\n",
    "            diff_phi0 = diff_f(x) * d\n",
    "            phi0 = f(x)\n",
    "            if phi_alpha <= phi0 + alpha * diff_phi0 * rou:\n",
    "                if phi_alpha >= phi0 + (1 - rou) * alpha * diff_phi0:\n",
    "                    return alpha\n",
    "                else:\n",
    "                    a = alpha\n",
    "            else:\n",
    "                b = alpha\n",
    "            alpha = (a + b) / 2\n",
    "\n",
    "    x = t0\n",
    "    d = 0.5\n",
    "    while True:\n",
    "        alpha = get_alpha()\n",
    "        if alpha < 1e-6:\n",
    "            break\n",
    "        x += alpha * d\n",
    "    return x, f(x)"
   ],
   "metadata": {
    "collapsed": false,
    "ExecuteTime": {
     "end_time": "2024-06-04T07:08:47.198248600Z",
     "start_time": "2024-06-04T07:08:47.171430400Z"
    }
   },
   "id": "22de0fa5685af6bc",
   "execution_count": 10
  },
  {
   "cell_type": "code",
   "outputs": [],
   "source": [
    "def Wolfe(t0, rou, sigma):\n",
    "    def f(x):\n",
    "        a = np.array([-2, 21, -60, 50])\n",
    "        b = np.array([np.power(x, i) for i in range(3, -1, -1)])\n",
    "        return np.dot(a, b)\n",
    "    def diff_f(x):\n",
    "        a = np.array([-6, 42, -60])\n",
    "        b = np.array([np.power(x, i) for i in range(2, -1, -1)])\n",
    "        return np.dot(a, b)\n",
    "    def phi_alpha(alpha):\n",
    "        return f(x + alpha * d)\n",
    "    def diff_phi_alpha(alpha):\n",
    "        return diff_f(x + alpha * d) * d\n",
    "    def get_alpha(MIN=0, MAX=1):\n",
    "        alpha1 = MIN\n",
    "        alpha2 = MAX\n",
    "        phi1 = f(x)\n",
    "        diff_phi1 = diff_f(x) * d\n",
    "        alpha = (alpha1 + alpha2) / 2\n",
    "        \n",
    "        while True:\n",
    "            phi = phi_alpha(alpha)\n",
    "            if phi - phi1 <= rou * alpha * diff_phi1:\n",
    "                diff_phi = diff_phi_alpha(alpha)\n",
    "                if diff_phi >= sigma * diff_phi1:\n",
    "                    return alpha\n",
    "                else:\n",
    "                    alpha_head = alpha + (phi - phi1) * diff_phi / (diff_phi1 - diff_phi)\n",
    "                    alpha1 = alpha\n",
    "                    phi1 = phi\n",
    "                    diff_phi1 = diff_phi\n",
    "                    alpha = alpha_head\n",
    "            else:\n",
    "                alpha_head = alpha1 + 0.5 * (alpha - alpha1) / \\\n",
    "                         (1 + (phi1 - phi) / (alpha - alpha1) / diff_phi1)\n",
    "                alpha2 = alpha\n",
    "                alpha = alpha_head\n",
    "\n",
    "    x = t0\n",
    "    d = 0.25\n",
    "    while True:\n",
    "        alpha = get_alpha()\n",
    "        if alpha < 1e-6:\n",
    "            break\n",
    "        x += alpha * d\n",
    "    return x, f(x)"
   ],
   "metadata": {
    "collapsed": false,
    "ExecuteTime": {
     "end_time": "2024-06-04T07:08:47.341122200Z",
     "start_time": "2024-06-04T07:08:47.338369100Z"
    }
   },
   "id": "d5fba9d2b70eab90",
   "execution_count": 11
  },
  {
   "cell_type": "code",
   "outputs": [
    {
     "name": "stdout",
     "output_type": "stream",
     "text": [
      "Goldstein 法:\n",
      "x_star = 2.0\n",
      "min_val = -2.0\n",
      "Wolfe 法:\n",
      "x_star = 2.000350282409802\n",
      "min_val = -1.9999988958060584\n"
     ]
    }
   ],
   "source": [
    "def main7():\n",
    "    x_star, min_val = Goldstein(0.5, 0.1)\n",
    "    print(f\"Goldstein 法:\\nx_star = {x_star}\\nmin_val = {min_val}\\n\")\n",
    "    x_star, min_val = Wolfe(0.5, 0.1, 0.8)\n",
    "    print(f\"Wolfe 法:\\nx_star = {x_star}\\nmin_val = {min_val}\\n\")\n",
    "if not DEBUG:\n",
    "    main7()"
   ],
   "metadata": {
    "collapsed": false,
    "ExecuteTime": {
     "end_time": "2024-06-04T07:08:48.165098400Z",
     "start_time": "2024-06-04T07:08:47.473214300Z"
    }
   },
   "id": "21bbdff90edc473a",
   "execution_count": 12
  }
 ],
 "metadata": {
  "kernelspec": {
   "display_name": "Python 3",
   "language": "python",
   "name": "python3"
  },
  "language_info": {
   "codemirror_mode": {
    "name": "ipython",
    "version": 2
   },
   "file_extension": ".py",
   "mimetype": "text/x-python",
   "name": "python",
   "nbconvert_exporter": "python",
   "pygments_lexer": "ipython2",
   "version": "2.7.6"
  }
 },
 "nbformat": 4,
 "nbformat_minor": 5
}
