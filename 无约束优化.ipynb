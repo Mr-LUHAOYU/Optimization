{
 "cells": [
  {
   "cell_type": "code",
   "outputs": [],
   "source": [
    "import numpy as np"
   ],
   "metadata": {
    "collapsed": false,
    "ExecuteTime": {
     "end_time": "2024-05-31T03:22:18.043657500Z",
     "start_time": "2024-05-31T03:22:17.906717900Z"
    }
   },
   "id": "4c576dac9b05de1",
   "execution_count": 1
  },
  {
   "cell_type": "markdown",
   "source": [
    "## 第一题"
   ],
   "metadata": {
    "collapsed": false
   },
   "id": "ede612bbca24662a"
  },
  {
   "cell_type": "code",
   "execution_count": 2,
   "id": "initial_id",
   "metadata": {
    "collapsed": true,
    "ExecuteTime": {
     "end_time": "2024-05-31T03:22:18.045704300Z",
     "start_time": "2024-05-31T03:22:18.040058700Z"
    }
   },
   "outputs": [],
   "source": [
    "class Solution1(object):\n",
    "    @staticmethod\n",
    "    def f(x):\n",
    "        A = np.array([[1.5, -0.5], [-0.5, 0.5]])\n",
    "        b = np.array([-2, 0])\n",
    "        return np.dot(np.dot(x, A), x) + np.dot(b, x)\n",
    "    @staticmethod\n",
    "    def g(x):\n",
    "        a = np.dot(np.array([3, -1]), x) - 2\n",
    "        b = np.dot(np.array([-1, 1]), x)\n",
    "        return np.array([a, b])\n",
    "    \n",
    "    @staticmethod\n",
    "    def G(x):\n",
    "        return np.array([[3, -1], [-1, 1]])\n",
    "    \n",
    "    def get_alpha(self, x, d, rho, MIN=0, MAX=1):\n",
    "        a, b = MIN, MAX\n",
    "        alpha = (a + b) / 2\n",
    "        while True:\n",
    "            phi_alpha = self.f(x + alpha * d)\n",
    "            diff_phi0 = np.dot(self.g(x), d)\n",
    "            phi0 = self.f(x)\n",
    "            if phi_alpha <= phi0 + alpha * diff_phi0 * rho:\n",
    "                if phi_alpha >= phi0 + (1 - rho) * alpha * diff_phi0:\n",
    "                    return alpha\n",
    "                else:\n",
    "                    a = alpha\n",
    "            else:\n",
    "                b = alpha\n",
    "            alpha = (a + b) / 2\n",
    "\n",
    "    def SteepestDescent(self, x0):\n",
    "        x = x0\n",
    "        while True:\n",
    "            d = -self.g(x)\n",
    "            if np.linalg.norm(d) < 1e-6:\n",
    "                break\n",
    "            alpha = self.get_alpha(x, d, 0.1)\n",
    "            x = x + alpha * d\n",
    "        return x, self.f(x)\n",
    "    \n",
    "    def Newton(self, x0):\n",
    "        x = x0\n",
    "        while True:\n",
    "            _g = self.g(x)\n",
    "            if np.linalg.norm(_g) < 1e-6:\n",
    "                break\n",
    "            _G = self.G(x)\n",
    "            d = -np.linalg.solve(_G, _g)\n",
    "            alpha = self.get_alpha(x, d, 0.1)\n",
    "            x = x + alpha * d\n",
    "        return x, self.f(x)"
   ]
  },
  {
   "cell_type": "code",
   "outputs": [
    {
     "name": "stdout",
     "output_type": "stream",
     "text": [
      "Steepest Descent: \n",
      "x_star: [1. 1.], min_value: -1.0000\n",
      "Newton: \n",
      "x_star: [1. 1.], min_value: -1.0000\n"
     ]
    }
   ],
   "source": [
    "def main1():\n",
    "    x_star, min_value = Solution1().SteepestDescent(np.array([-2, 4]))\n",
    "    print(f\"Steepest Descent: \\nx_star: {np.round(x_star, 4)}, min_value: {min_value:.4f}\")\n",
    "    x_star, min_value = Solution1().Newton(np.array([-2, 4]))\n",
    "    print(f\"Newton: \\nx_star: {np.round(x_star, 4)}, min_value: {min_value:.4f}\")\n",
    "main1()"
   ],
   "metadata": {
    "collapsed": false,
    "ExecuteTime": {
     "end_time": "2024-05-31T03:22:18.091385600Z",
     "start_time": "2024-05-31T03:22:18.046711200Z"
    }
   },
   "id": "5fb54fa86fc31df5",
   "execution_count": 3
  },
  {
   "cell_type": "markdown",
   "source": [
    "##  第十题"
   ],
   "metadata": {
    "collapsed": false
   },
   "id": "3d73a85744f7c48f"
  },
  {
   "cell_type": "code",
   "outputs": [],
   "source": [
    "import sys\n",
    "\n",
    "\n",
    "class Solution10(object):\n",
    "    @staticmethod\n",
    "    def f(x):\n",
    "        return 100 * np.power(x[1] - x[0] * x[0], 2) + np.power(1 - x[0], 2)\n",
    "    @staticmethod\n",
    "    def g(x):\n",
    "        return np.array([400 * x[0] * (x[0] * x[0] - x[1]) - 2 * (1 - x[0]), \n",
    "                         200 * (x[1] - x[0] * x[0])])\n",
    "    \n",
    "    @staticmethod\n",
    "    def G(x):\n",
    "        return np.array([[1200 * x[0] * x[0] - 400 * x[1] + 2, -400 * x[0]], \n",
    "                         [-400 * x[0], 200]])\n",
    "    \n",
    "    def get_alpha(self, x, d, rho, MIN=0, MAX=1):\n",
    "        a, b = MIN, MAX\n",
    "        alpha = (a + b) / 2\n",
    "        while np.abs(a - b) > 1e-6:\n",
    "            phi_alpha = self.f(x + alpha * d)\n",
    "            diff_phi0 = np.dot(self.g(x), d)\n",
    "            phi0 = self.f(x)\n",
    "            if phi_alpha <= phi0 + alpha * diff_phi0 * rho:\n",
    "                if phi_alpha >= phi0 + (1 - rho) * alpha * diff_phi0:\n",
    "                    break\n",
    "                else:\n",
    "                    a = alpha\n",
    "            else:\n",
    "                b = alpha\n",
    "            alpha = (a + b) / 2\n",
    "        return alpha\n",
    "\n",
    "    def SteepestDescent(self, x0):\n",
    "        x = x0\n",
    "        while True:\n",
    "            d = -self.g(x)\n",
    "            if np.linalg.norm(d) < 1e-6:\n",
    "                break\n",
    "            alpha = self.get_alpha(x, d, 0.1)\n",
    "            x = x + alpha * d\n",
    "        return x, self.f(x)\n",
    "    \n",
    "    def Newton(self, x0):\n",
    "        x = x0\n",
    "        while True:\n",
    "            _g = self.g(x)\n",
    "            if np.linalg.norm(_g) < 1e-6:\n",
    "                break\n",
    "            _G = self.G(x)\n",
    "            d = -np.linalg.solve(_G, _g)\n",
    "            alpha = self.get_alpha(x, d, 0.1)\n",
    "            x = x + alpha * d\n",
    "        return x, self.f(x)\n",
    "    \n",
    "    def ConjugateGradient(self, x0):\n",
    "        x = x0\n",
    "        f = self.f(x)\n",
    "        g = self.g(x)\n",
    "        d = -g\n",
    "        while True:\n",
    "            if np.linalg.norm(g) < 1e-6:\n",
    "                break\n",
    "            alpha = self.get_alpha(x, d, 0.1)\n",
    "            x = x + alpha * d\n",
    "            f = self.f(x)\n",
    "            g_new = self.g(x)\n",
    "            beta = np.dot(g_new, g_new) / np.dot(g, g)\n",
    "            g = g_new\n",
    "            d = -g + beta * d\n",
    "        return x, f\n",
    "    \n",
    "    def QuasiNewton(self, x0):\n",
    "        x = x0.T\n",
    "        B = np.eye(2)\n",
    "        g = self.g(x)\n",
    "        while True:\n",
    "            if np.linalg.norm(g) < 1e-6:\n",
    "                break\n",
    "            d = -np.linalg.solve(B, g)\n",
    "            alpha = self.get_alpha(x, d, 0.1)\n",
    "            x_new = x + alpha * d\n",
    "            g_new = self.g(x_new)\n",
    "            s = x_new - x\n",
    "            y = g_new - g\n",
    "            Bs = B @ s.T\n",
    "            sy = np.dot(s, y)\n",
    "            if sy > 1e-10:\n",
    "                B = B + np.outer(y, y) / sy - np.outer(Bs, Bs) / np.dot(s, Bs)\n",
    "            x, g = x_new, g_new\n",
    "        return x, self.f(x)\n",
    "    "
   ],
   "metadata": {
    "collapsed": false,
    "ExecuteTime": {
     "end_time": "2024-05-31T03:22:18.094386700Z",
     "start_time": "2024-05-31T03:22:18.075103500Z"
    }
   },
   "id": "ac6725c788f3a3ac",
   "execution_count": 4
  },
  {
   "cell_type": "code",
   "outputs": [
    {
     "name": "stdout",
     "output_type": "stream",
     "text": [
      "Steepest Descent: \n",
      "x_star: [1. 1.], min_value: 0.0000\n",
      "Newton: x_star: \n",
      "x_star: [1. 1.], min_value: 0.0000\n",
      "Conjugate Gradient: x_star: \n",
      "x_star: [1. 1.], min_value: 0.0000\n",
      "Quasi-Newton: x_star: \n",
      "x_star: [1. 1.], min_value: 0.0000\n"
     ]
    }
   ],
   "source": [
    "def main10():\n",
    "    x_star, min_value = Solution10().SteepestDescent(np.array([-1.2, 1]))\n",
    "    print(f\"Steepest Descent: \\nx_star: {np.round(x_star, 4)}, min_value: {min_value:.4f}\")\n",
    "    x_star, min_value = Solution10().Newton(np.array([-1.2, 1]))\n",
    "    print(f\"Newton: x_star: \\nx_star: {np.round(x_star, 4)}, min_value: {min_value:.4f}\")\n",
    "    x_star, min_value = Solution10().ConjugateGradient(np.array([-1.2, 1]))\n",
    "    print(f\"Conjugate Gradient: x_star: \\nx_star: {np.round(x_star, 4)}, min_value: {min_value:.4f}\")\n",
    "    x_star, min_value = Solution10().QuasiNewton(np.array([-1.2, 1]))\n",
    "    print(f\"Quasi-Newton: x_star: \\nx_star: {np.round(x_star, 4)}, min_value: {min_value:.4f}\")\n",
    "main10()"
   ],
   "metadata": {
    "collapsed": false,
    "ExecuteTime": {
     "end_time": "2024-05-31T03:22:20.089807800Z",
     "start_time": "2024-05-31T03:22:18.084030400Z"
    }
   },
   "id": "f9a976cd433b8742",
   "execution_count": 5
  }
 ],
 "metadata": {
  "kernelspec": {
   "display_name": "Python 3",
   "language": "python",
   "name": "python3"
  },
  "language_info": {
   "codemirror_mode": {
    "name": "ipython",
    "version": 2
   },
   "file_extension": ".py",
   "mimetype": "text/x-python",
   "name": "python",
   "nbconvert_exporter": "python",
   "pygments_lexer": "ipython2",
   "version": "2.7.6"
  }
 },
 "nbformat": 4,
 "nbformat_minor": 5
}
